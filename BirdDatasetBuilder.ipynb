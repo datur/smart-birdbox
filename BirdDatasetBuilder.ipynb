{
 "cells": [
  {
   "cell_type": "markdown",
   "id": "eff1f765-7638-44eb-acea-e16585d223ce",
   "metadata": {},
   "source": [
    "# Birds"
   ]
  },
  {
   "cell_type": "code",
   "execution_count": 24,
   "id": "5a52cc98-0589-458b-923f-17ec6413d6db",
   "metadata": {},
   "outputs": [],
   "source": [
    "import pandas as pd\n",
    "import dask.dataframe as dd"
   ]
  },
  {
   "cell_type": "code",
   "execution_count": 2,
   "id": "dea47ba9-5d4e-4324-a00a-69a24716105b",
   "metadata": {},
   "outputs": [],
   "source": [
    "df = pd.read_csv('required_birds.csv')"
   ]
  },
  {
   "cell_type": "code",
   "execution_count": 16,
   "id": "e9567cf4-08cc-4b02-8b0f-40210d25c634",
   "metadata": {},
   "outputs": [],
   "source": [
    "bird_names = df['Name'].to_list()\n",
    "\n",
    "bird_names = [b.replace(\" \", \"_\").lower() for b in bird_names]"
   ]
  },
  {
   "cell_type": "code",
   "execution_count": 22,
   "id": "6d0a9119-6a95-4034-8550-07528047778e",
   "metadata": {},
   "outputs": [],
   "source": [
    "dtypes = {\n",
    "    \"gbifID\": int,\n",
    "    \"type\": str,\n",
    "    \"format\": str,\n",
    "    \"identifier\": str,\n",
    "    \"references\": str,\n",
    "    \"title\": str,\n",
    "    \"description\": str,\n",
    "    \"source\": str,\n",
    "    \"audience\": str,\n",
    "    \"created\": str,\n",
    "    \"creator\": str,\n",
    "    \"contributor\": str,\n",
    "    \"publisher\": str,\n",
    "    \"license\": str,\n",
    "    \"rightsHolder\": str,   \n",
    "}\n",
    "\n",
    "required_cols = [\"gbifID\", \"format\", \"identifier\", \"references\"]"
   ]
  },
  {
   "cell_type": "code",
   "execution_count": 25,
   "id": "aaa31943-7203-432e-9cd1-f2b2a7f19c90",
   "metadata": {},
   "outputs": [],
   "source": [
    "def extract_bird_image_links(in_file_path: str, out_file_path: str, dtypes: dict, required_cols: list[str]):\n",
    "    \n",
    "    df = dd.read_csv(in_file_path, sep=\"\\t\", dtype=dtypes)\n",
    "    \n",
    "    sel = df[df['type'] == \"StillImage\"]\n",
    "\n",
    "    result = sel[required_cols]\n",
    "\n",
    "    res = result[result['identifier'].notnull()]\n",
    "    \n",
    "    result.to_csv(out_file_path)\n",
    "    "
   ]
  },
  {
   "cell_type": "markdown",
   "id": "f7766211-2b48-421f-aeb5-660a59b55966",
   "metadata": {},
   "source": [
    "## Download Images\n"
   ]
  },
  {
   "cell_type": "code",
   "execution_count": null,
   "id": "de189712-f22b-4cef-ac39-128b3e54d6cf",
   "metadata": {},
   "outputs": [],
   "source": [
    "def download_images():\n",
    "    \n",
    "\n",
    "for i, row in res.iterrows():\n",
    "    # print(type(row))\n",
    "    image_id = row['gbifID']\n",
    "    img_url = row[\"identifier\"]\n",
    "    file_type = img_url.split(\".\")[-1].lower()\n",
    "    \n",
    "    if file_type in invalid_fyle_types:\n",
    "        continue\n",
    "    \n",
    "    if file_type not in file_types:\n",
    "        file_type = 'jpeg'\n",
    "    \n",
    "    if os.path.isfile(f\"data/dataset/robin/{image_id}.{file_type}\"):\n",
    "        continue\n",
    "        \n",
    "    response = requests.get(img_url)\n",
    "    \n",
    "    with open(f'data/dataset/robin/{image_id}.{file_type}', 'wb') as f:\n",
    "        f.write(response.content)\n",
    "    \n",
    "    if i % 1000 == 0:\n",
    "        print(i)"
   ]
  },
  {
   "cell_type": "markdown",
   "id": "35445be0-0068-452a-83ff-fb46835086d9",
   "metadata": {},
   "source": [
    "## Iterate through Datasets"
   ]
  },
  {
   "cell_type": "code",
   "execution_count": 27,
   "id": "7b333ba2-281e-4793-8bbe-e34a940e7793",
   "metadata": {},
   "outputs": [
    {
     "name": "stdout",
     "output_type": "stream",
     "text": [
      "robin : Done!\n",
      "great_tit : Done!\n",
      "goldfinch : Done!\n",
      "chaffinch : Done!\n",
      "greenfinch : Done!\n",
      "wren : Done!\n",
      "yellowhammer : Done!\n",
      "dunnock : Done!\n",
      "coal_tit : Done!\n",
      "goldcrest : Done!\n",
      "blue_tit : Done!\n"
     ]
    }
   ],
   "source": [
    "for bird in bird_names:\n",
    "    in_file_path = f\"data/source/{bird}/multimedia.tsv\"\n",
    "    out_file_path = f\"data/source/{bird}/{bird}_*.csv\"\n",
    "    \n",
    "    extract_bird_image_links(in_file_path, out_file_path, dtypes, required_cols)\n",
    "    \n",
    "    print(bird, \": Done!\")\n",
    "    \n"
   ]
  }
 ],
 "metadata": {
  "kernelspec": {
   "display_name": "Python 3 (ipykernel)",
   "language": "python",
   "name": "python3"
  },
  "language_info": {
   "codemirror_mode": {
    "name": "ipython",
    "version": 3
   },
   "file_extension": ".py",
   "mimetype": "text/x-python",
   "name": "python",
   "nbconvert_exporter": "python",
   "pygments_lexer": "ipython3",
   "version": "3.9.13"
  }
 },
 "nbformat": 4,
 "nbformat_minor": 5
}
